{
 "cells": [
  {
   "cell_type": "code",
   "execution_count": 61,
   "metadata": {},
   "outputs": [],
   "source": [
    "import pandas as pd\n",
    "import os\n"
   ]
  },
  {
   "cell_type": "code",
   "execution_count": 62,
   "metadata": {},
   "outputs": [
    {
     "name": "stdout",
     "output_type": "stream",
     "text": [
      "/Users/caseydelaney/Documents/Casey Coding\n"
     ]
    }
   ],
   "source": [
    "pwd = os.getcwd()\n",
    "print(pwd)"
   ]
  },
  {
   "cell_type": "code",
   "execution_count": 63,
   "metadata": {},
   "outputs": [
    {
     "data": {
      "text/plain": [
       "'/Users/caseydelaney/Documents/Casey Coding/simple_csv.csv'"
      ]
     },
     "execution_count": 63,
     "metadata": {},
     "output_type": "execute_result"
    }
   ],
   "source": [
    "filepath = pwd + \"/simple_csv.csv\"\n",
    "filepath"
   ]
  },
  {
   "cell_type": "code",
   "execution_count": 64,
   "metadata": {},
   "outputs": [
    {
     "data": {
      "text/html": [
       "<div>\n",
       "<style scoped>\n",
       "    .dataframe tbody tr th:only-of-type {\n",
       "        vertical-align: middle;\n",
       "    }\n",
       "\n",
       "    .dataframe tbody tr th {\n",
       "        vertical-align: top;\n",
       "    }\n",
       "\n",
       "    .dataframe thead th {\n",
       "        text-align: right;\n",
       "    }\n",
       "</style>\n",
       "<table border=\"1\" class=\"dataframe\">\n",
       "  <thead>\n",
       "    <tr style=\"text-align: right;\">\n",
       "      <th></th>\n",
       "      <th>Column1</th>\n",
       "      <th>Column2</th>\n",
       "      <th>Column3</th>\n",
       "    </tr>\n",
       "  </thead>\n",
       "  <tbody>\n",
       "    <tr>\n",
       "      <th>0</th>\n",
       "      <td>0.280925</td>\n",
       "      <td>0.910368</td>\n",
       "      <td>0.692982</td>\n",
       "    </tr>\n",
       "    <tr>\n",
       "      <th>1</th>\n",
       "      <td>0.719882</td>\n",
       "      <td>0.210024</td>\n",
       "      <td>0.761276</td>\n",
       "    </tr>\n",
       "    <tr>\n",
       "      <th>2</th>\n",
       "      <td>0.235752</td>\n",
       "      <td>0.059796</td>\n",
       "      <td>0.154667</td>\n",
       "    </tr>\n",
       "    <tr>\n",
       "      <th>3</th>\n",
       "      <td>0.603366</td>\n",
       "      <td>0.485614</td>\n",
       "      <td>0.013345</td>\n",
       "    </tr>\n",
       "    <tr>\n",
       "      <th>4</th>\n",
       "      <td>0.039985</td>\n",
       "      <td>0.236359</td>\n",
       "      <td>0.811832</td>\n",
       "    </tr>\n",
       "  </tbody>\n",
       "</table>\n",
       "</div>"
      ],
      "text/plain": [
       "    Column1   Column2   Column3\n",
       "0  0.280925  0.910368  0.692982\n",
       "1  0.719882  0.210024  0.761276\n",
       "2  0.235752  0.059796  0.154667\n",
       "3  0.603366  0.485614  0.013345\n",
       "4  0.039985  0.236359  0.811832"
      ]
     },
     "execution_count": 64,
     "metadata": {},
     "output_type": "execute_result"
    }
   ],
   "source": [
    "first_import = pd.read_csv(filepath, nrows=5)\n",
    "first_import"
   ]
  },
  {
   "cell_type": "code",
   "execution_count": 65,
   "metadata": {},
   "outputs": [
    {
     "data": {
      "text/plain": [
       "0    0.280925\n",
       "1    0.719882\n",
       "2    0.235752\n",
       "3    0.603366\n",
       "4    0.039985\n",
       "Name: Column1, dtype: float64"
      ]
     },
     "execution_count": 65,
     "metadata": {},
     "output_type": "execute_result"
    }
   ],
   "source": [
    "first_import['Column1']"
   ]
  },
  {
   "cell_type": "code",
   "execution_count": 66,
   "metadata": {},
   "outputs": [
    {
     "data": {
      "text/html": [
       "<div>\n",
       "<style scoped>\n",
       "    .dataframe tbody tr th:only-of-type {\n",
       "        vertical-align: middle;\n",
       "    }\n",
       "\n",
       "    .dataframe tbody tr th {\n",
       "        vertical-align: top;\n",
       "    }\n",
       "\n",
       "    .dataframe thead th {\n",
       "        text-align: right;\n",
       "    }\n",
       "</style>\n",
       "<table border=\"1\" class=\"dataframe\">\n",
       "  <thead>\n",
       "    <tr style=\"text-align: right;\">\n",
       "      <th></th>\n",
       "      <th>Column1</th>\n",
       "      <th>Column2</th>\n",
       "      <th>Column3</th>\n",
       "      <th>new column 2</th>\n",
       "      <th>added output</th>\n",
       "    </tr>\n",
       "  </thead>\n",
       "  <tbody>\n",
       "    <tr>\n",
       "      <th>0</th>\n",
       "      <td>0.280925</td>\n",
       "      <td>0.910368</td>\n",
       "      <td>0.692982</td>\n",
       "      <td>3</td>\n",
       "      <td>3.280925</td>\n",
       "    </tr>\n",
       "    <tr>\n",
       "      <th>1</th>\n",
       "      <td>0.719882</td>\n",
       "      <td>0.210024</td>\n",
       "      <td>0.761276</td>\n",
       "      <td>3</td>\n",
       "      <td>3.719882</td>\n",
       "    </tr>\n",
       "    <tr>\n",
       "      <th>2</th>\n",
       "      <td>0.235752</td>\n",
       "      <td>0.059796</td>\n",
       "      <td>0.154667</td>\n",
       "      <td>3</td>\n",
       "      <td>3.235752</td>\n",
       "    </tr>\n",
       "    <tr>\n",
       "      <th>3</th>\n",
       "      <td>0.603366</td>\n",
       "      <td>0.485614</td>\n",
       "      <td>0.013345</td>\n",
       "      <td>3</td>\n",
       "      <td>3.603366</td>\n",
       "    </tr>\n",
       "    <tr>\n",
       "      <th>4</th>\n",
       "      <td>0.039985</td>\n",
       "      <td>0.236359</td>\n",
       "      <td>0.811832</td>\n",
       "      <td>3</td>\n",
       "      <td>3.039985</td>\n",
       "    </tr>\n",
       "  </tbody>\n",
       "</table>\n",
       "</div>"
      ],
      "text/plain": [
       "    Column1   Column2   Column3  new column 2  added output\n",
       "0  0.280925  0.910368  0.692982             3      3.280925\n",
       "1  0.719882  0.210024  0.761276             3      3.719882\n",
       "2  0.235752  0.059796  0.154667             3      3.235752\n",
       "3  0.603366  0.485614  0.013345             3      3.603366\n",
       "4  0.039985  0.236359  0.811832             3      3.039985"
      ]
     },
     "execution_count": 66,
     "metadata": {},
     "output_type": "execute_result"
    }
   ],
   "source": [
    "first_import[\"new column 2\"] = 3\n",
    "first_import[\"added output\"] = first_import[\"new column 2\"] + first_import[\"Column1\"]\n",
    "first_import"
   ]
  },
  {
   "cell_type": "code",
   "execution_count": null,
   "metadata": {},
   "outputs": [],
   "source": []
  }
 ],
 "metadata": {
  "kernelspec": {
   "display_name": "Python 3.9.12 ('base')",
   "language": "python",
   "name": "python3"
  },
  "language_info": {
   "codemirror_mode": {
    "name": "ipython",
    "version": 3
   },
   "file_extension": ".py",
   "mimetype": "text/x-python",
   "name": "python",
   "nbconvert_exporter": "python",
   "pygments_lexer": "ipython3",
   "version": "3.9.12 (main, Apr  5 2022, 01:53:17) \n[Clang 12.0.0 ]"
  },
  "orig_nbformat": 4,
  "vscode": {
   "interpreter": {
    "hash": "b4bd07074b631519359d39e2ffca782936cb159f9b56fffcb4529e79f6b55e6e"
   }
  }
 },
 "nbformat": 4,
 "nbformat_minor": 2
}
